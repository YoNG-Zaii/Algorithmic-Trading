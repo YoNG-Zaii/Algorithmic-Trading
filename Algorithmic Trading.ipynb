{
 "cells": [
  {
   "cell_type": "markdown",
   "id": "89e8404f",
   "metadata": {},
   "source": [
    "## Algorithmic Trading using Recurrent Proximal Policy Optimisation (PPO)"
   ]
  },
  {
   "cell_type": "markdown",
   "id": "4e9d8b99",
   "metadata": {},
   "source": [
    "This reinforcement learning project is to demonstrate the application of AI in trading."
   ]
  },
  {
   "cell_type": "markdown",
   "id": "0129ad29",
   "metadata": {},
   "source": [
    "First, we will import the necessary libraries. We will use <a href='https://github.com/AminHP/gym-anytrading'>AnyTrading</a> library from OpenAI Gym to setup the stock trading environment and <a href='https://stable-baselines3.readthedocs.io/en/master/'>Stable-Baselines3</a> library for recurrent PPO algorithm."
   ]
  },
  {
   "cell_type": "code",
   "execution_count": 2,
   "id": "b9db03a6",
   "metadata": {},
   "outputs": [],
   "source": [
    "# Import necessary dependencies\n",
    "import numpy as np\n",
    "import pandas as pd\n",
    "from matplotlib import pyplot as plt\n",
    "import os\n",
    "\n",
    "import gym\n",
    "import gym_anytrading\n",
    "\n",
    "from sb3_contrib import RecurrentPPO\n",
    "from stable_baselines3.common.vec_env.dummy_vec_env import DummyVecEnv"
   ]
  },
  {
   "cell_type": "markdown",
   "id": "a3bcc811",
   "metadata": {},
   "source": [
    "### Data Collection"
   ]
  },
  {
   "cell_type": "markdown",
   "id": "f7a0970a",
   "metadata": {},
   "source": [
    "The data that we will use consist of GameStop stock prices.<br> Source: https://www.marketwatch.com/investing/stock/gme/download-data?startDate=1/3/2022&endDate=09/14/2022"
   ]
  },
  {
   "cell_type": "code",
   "execution_count": 3,
   "id": "e7513e4f",
   "metadata": {},
   "outputs": [
    {
     "data": {
      "text/html": [
       "<div>\n",
       "<style scoped>\n",
       "    .dataframe tbody tr th:only-of-type {\n",
       "        vertical-align: middle;\n",
       "    }\n",
       "\n",
       "    .dataframe tbody tr th {\n",
       "        vertical-align: top;\n",
       "    }\n",
       "\n",
       "    .dataframe thead th {\n",
       "        text-align: right;\n",
       "    }\n",
       "</style>\n",
       "<table border=\"1\" class=\"dataframe\">\n",
       "  <thead>\n",
       "    <tr style=\"text-align: right;\">\n",
       "      <th></th>\n",
       "      <th>Date</th>\n",
       "      <th>Open</th>\n",
       "      <th>High</th>\n",
       "      <th>Low</th>\n",
       "      <th>Close</th>\n",
       "      <th>Volume</th>\n",
       "    </tr>\n",
       "  </thead>\n",
       "  <tbody>\n",
       "    <tr>\n",
       "      <th>0</th>\n",
       "      <td>09/14/2022</td>\n",
       "      <td>27.56</td>\n",
       "      <td>28.45</td>\n",
       "      <td>26.65</td>\n",
       "      <td>28.13</td>\n",
       "      <td>3,605,752</td>\n",
       "    </tr>\n",
       "    <tr>\n",
       "      <th>1</th>\n",
       "      <td>09/13/2022</td>\n",
       "      <td>27.40</td>\n",
       "      <td>28.61</td>\n",
       "      <td>27.32</td>\n",
       "      <td>27.85</td>\n",
       "      <td>3,657,164</td>\n",
       "    </tr>\n",
       "    <tr>\n",
       "      <th>2</th>\n",
       "      <td>09/12/2022</td>\n",
       "      <td>29.03</td>\n",
       "      <td>30.34</td>\n",
       "      <td>28.00</td>\n",
       "      <td>29.24</td>\n",
       "      <td>6,175,210</td>\n",
       "    </tr>\n",
       "    <tr>\n",
       "      <th>3</th>\n",
       "      <td>09/09/2022</td>\n",
       "      <td>26.30</td>\n",
       "      <td>29.08</td>\n",
       "      <td>26.10</td>\n",
       "      <td>28.92</td>\n",
       "      <td>7,916,490</td>\n",
       "    </tr>\n",
       "    <tr>\n",
       "      <th>4</th>\n",
       "      <td>09/08/2022</td>\n",
       "      <td>25.00</td>\n",
       "      <td>26.74</td>\n",
       "      <td>24.07</td>\n",
       "      <td>25.83</td>\n",
       "      <td>14,142,210</td>\n",
       "    </tr>\n",
       "    <tr>\n",
       "      <th>...</th>\n",
       "      <td>...</td>\n",
       "      <td>...</td>\n",
       "      <td>...</td>\n",
       "      <td>...</td>\n",
       "      <td>...</td>\n",
       "      <td>...</td>\n",
       "    </tr>\n",
       "    <tr>\n",
       "      <th>248</th>\n",
       "      <td>09/20/2021</td>\n",
       "      <td>50.00</td>\n",
       "      <td>50.71</td>\n",
       "      <td>46.14</td>\n",
       "      <td>48.05</td>\n",
       "      <td>15,767,208</td>\n",
       "    </tr>\n",
       "    <tr>\n",
       "      <th>249</th>\n",
       "      <td>09/17/2021</td>\n",
       "      <td>52.01</td>\n",
       "      <td>53.12</td>\n",
       "      <td>50.20</td>\n",
       "      <td>51.24</td>\n",
       "      <td>15,802,572</td>\n",
       "    </tr>\n",
       "    <tr>\n",
       "      <th>250</th>\n",
       "      <td>09/16/2021</td>\n",
       "      <td>50.58</td>\n",
       "      <td>54.14</td>\n",
       "      <td>50.29</td>\n",
       "      <td>51.59</td>\n",
       "      <td>12,232,868</td>\n",
       "    </tr>\n",
       "    <tr>\n",
       "      <th>251</th>\n",
       "      <td>09/15/2021</td>\n",
       "      <td>49.25</td>\n",
       "      <td>51.22</td>\n",
       "      <td>48.44</td>\n",
       "      <td>51.13</td>\n",
       "      <td>9,241,628</td>\n",
       "    </tr>\n",
       "    <tr>\n",
       "      <th>252</th>\n",
       "      <td>09/14/2021</td>\n",
       "      <td>50.16</td>\n",
       "      <td>51.16</td>\n",
       "      <td>48.75</td>\n",
       "      <td>49.81</td>\n",
       "      <td>8,566,524</td>\n",
       "    </tr>\n",
       "  </tbody>\n",
       "</table>\n",
       "<p>253 rows × 6 columns</p>\n",
       "</div>"
      ],
      "text/plain": [
       "           Date   Open   High    Low  Close      Volume\n",
       "0    09/14/2022  27.56  28.45  26.65  28.13   3,605,752\n",
       "1    09/13/2022  27.40  28.61  27.32  27.85   3,657,164\n",
       "2    09/12/2022  29.03  30.34  28.00  29.24   6,175,210\n",
       "3    09/09/2022  26.30  29.08  26.10  28.92   7,916,490\n",
       "4    09/08/2022  25.00  26.74  24.07  25.83  14,142,210\n",
       "..          ...    ...    ...    ...    ...         ...\n",
       "248  09/20/2021  50.00  50.71  46.14  48.05  15,767,208\n",
       "249  09/17/2021  52.01  53.12  50.20  51.24  15,802,572\n",
       "250  09/16/2021  50.58  54.14  50.29  51.59  12,232,868\n",
       "251  09/15/2021  49.25  51.22  48.44  51.13   9,241,628\n",
       "252  09/14/2021  50.16  51.16  48.75  49.81   8,566,524\n",
       "\n",
       "[253 rows x 6 columns]"
      ]
     },
     "execution_count": 3,
     "metadata": {},
     "output_type": "execute_result"
    }
   ],
   "source": [
    "df = pd.read_csv('gmedata.csv')\n",
    "df"
   ]
  },
  {
   "cell_type": "code",
   "execution_count": 4,
   "id": "e0474660",
   "metadata": {},
   "outputs": [
    {
     "data": {
      "text/plain": [
       "Date      datetime64[ns]\n",
       "Open             float64\n",
       "High             float64\n",
       "Low              float64\n",
       "Close            float64\n",
       "Volume            object\n",
       "dtype: object"
      ]
     },
     "execution_count": 4,
     "metadata": {},
     "output_type": "execute_result"
    }
   ],
   "source": [
    "df['Date'] = pd.to_datetime(df['Date'])\n",
    "df.dtypes"
   ]
  },
  {
   "cell_type": "code",
   "execution_count": 5,
   "id": "230c68b0",
   "metadata": {},
   "outputs": [
    {
     "data": {
      "text/html": [
       "<div>\n",
       "<style scoped>\n",
       "    .dataframe tbody tr th:only-of-type {\n",
       "        vertical-align: middle;\n",
       "    }\n",
       "\n",
       "    .dataframe tbody tr th {\n",
       "        vertical-align: top;\n",
       "    }\n",
       "\n",
       "    .dataframe thead th {\n",
       "        text-align: right;\n",
       "    }\n",
       "</style>\n",
       "<table border=\"1\" class=\"dataframe\">\n",
       "  <thead>\n",
       "    <tr style=\"text-align: right;\">\n",
       "      <th></th>\n",
       "      <th>Open</th>\n",
       "      <th>High</th>\n",
       "      <th>Low</th>\n",
       "      <th>Close</th>\n",
       "      <th>Volume</th>\n",
       "    </tr>\n",
       "    <tr>\n",
       "      <th>Date</th>\n",
       "      <th></th>\n",
       "      <th></th>\n",
       "      <th></th>\n",
       "      <th></th>\n",
       "      <th></th>\n",
       "    </tr>\n",
       "  </thead>\n",
       "  <tbody>\n",
       "    <tr>\n",
       "      <th>2022-09-14</th>\n",
       "      <td>27.56</td>\n",
       "      <td>28.45</td>\n",
       "      <td>26.65</td>\n",
       "      <td>28.13</td>\n",
       "      <td>3,605,752</td>\n",
       "    </tr>\n",
       "    <tr>\n",
       "      <th>2022-09-13</th>\n",
       "      <td>27.40</td>\n",
       "      <td>28.61</td>\n",
       "      <td>27.32</td>\n",
       "      <td>27.85</td>\n",
       "      <td>3,657,164</td>\n",
       "    </tr>\n",
       "    <tr>\n",
       "      <th>2022-09-12</th>\n",
       "      <td>29.03</td>\n",
       "      <td>30.34</td>\n",
       "      <td>28.00</td>\n",
       "      <td>29.24</td>\n",
       "      <td>6,175,210</td>\n",
       "    </tr>\n",
       "    <tr>\n",
       "      <th>2022-09-09</th>\n",
       "      <td>26.30</td>\n",
       "      <td>29.08</td>\n",
       "      <td>26.10</td>\n",
       "      <td>28.92</td>\n",
       "      <td>7,916,490</td>\n",
       "    </tr>\n",
       "    <tr>\n",
       "      <th>2022-09-08</th>\n",
       "      <td>25.00</td>\n",
       "      <td>26.74</td>\n",
       "      <td>24.07</td>\n",
       "      <td>25.83</td>\n",
       "      <td>14,142,210</td>\n",
       "    </tr>\n",
       "  </tbody>\n",
       "</table>\n",
       "</div>"
      ],
      "text/plain": [
       "             Open   High    Low  Close      Volume\n",
       "Date                                              \n",
       "2022-09-14  27.56  28.45  26.65  28.13   3,605,752\n",
       "2022-09-13  27.40  28.61  27.32  27.85   3,657,164\n",
       "2022-09-12  29.03  30.34  28.00  29.24   6,175,210\n",
       "2022-09-09  26.30  29.08  26.10  28.92   7,916,490\n",
       "2022-09-08  25.00  26.74  24.07  25.83  14,142,210"
      ]
     },
     "execution_count": 5,
     "metadata": {},
     "output_type": "execute_result"
    }
   ],
   "source": [
    "df.set_index('Date', inplace=True)\n",
    "df.head()"
   ]
  },
  {
   "cell_type": "markdown",
   "id": "9f6a6b97",
   "metadata": {},
   "source": [
    "### Environment Set Up"
   ]
  },
  {
   "cell_type": "markdown",
   "id": "29db9f7a",
   "metadata": {},
   "source": [
    "The parameter window_size is the number of ticks (current and previous ticks) returned as observation/state. For example, window_size = 5 means the data of the current day + 4 days before.<br>\n",
    "The parameter frame_bound is the range of data to be considered in the dataset, df."
   ]
  },
  {
   "cell_type": "code",
   "execution_count": 6,
   "id": "b577c31c",
   "metadata": {},
   "outputs": [],
   "source": [
    "window_size = 12\n",
    "start_index = window_size\n",
    "end_index = 120"
   ]
  },
  {
   "cell_type": "code",
   "execution_count": 7,
   "id": "cb9e1d04",
   "metadata": {},
   "outputs": [],
   "source": [
    "env_maker = lambda: gym.make(\n",
    "    'stocks-v0',\n",
    "    df=df, \n",
    "    frame_bound=(start_index, end_index), \n",
    "    window_size=window_size\n",
    ")"
   ]
  },
  {
   "cell_type": "code",
   "execution_count": 8,
   "id": "868594f9",
   "metadata": {},
   "outputs": [],
   "source": [
    "env = DummyVecEnv([env_maker])"
   ]
  },
  {
   "cell_type": "markdown",
   "id": "bf1c8849",
   "metadata": {},
   "source": [
    "There are two possible actions in the trading environment: 0 = sell and 1 = buy."
   ]
  },
  {
   "cell_type": "code",
   "execution_count": 9,
   "id": "fa075d4b",
   "metadata": {},
   "outputs": [],
   "source": [
    "env = env_maker()"
   ]
  },
  {
   "cell_type": "code",
   "execution_count": 10,
   "id": "ba273be6",
   "metadata": {
    "scrolled": false
   },
   "outputs": [
    {
     "data": {
      "text/plain": [
       "Discrete(2)"
      ]
     },
     "execution_count": 10,
     "metadata": {},
     "output_type": "execute_result"
    }
   ],
   "source": [
    "env.action_space"
   ]
  },
  {
   "cell_type": "code",
   "execution_count": 11,
   "id": "387ca32c",
   "metadata": {},
   "outputs": [
    {
     "data": {
      "text/plain": [
       "array([[ 2.813e+01,  0.000e+00],\n",
       "       [ 2.785e+01, -2.800e-01],\n",
       "       [ 2.924e+01,  1.390e+00],\n",
       "       [ 2.892e+01, -3.200e-01],\n",
       "       [ 2.583e+01, -3.090e+00],\n",
       "       [ 2.404e+01, -1.790e+00],\n",
       "       [ 2.514e+01,  1.100e+00],\n",
       "       [ 2.736e+01,  2.220e+00],\n",
       "       [ 2.763e+01,  2.700e-01],\n",
       "       [ 2.864e+01,  1.010e+00],\n",
       "       [ 2.984e+01,  1.200e+00],\n",
       "       [ 3.155e+01,  1.710e+00],\n",
       "       [ 3.094e+01, -6.100e-01],\n",
       "       [ 3.196e+01,  1.020e+00],\n",
       "       [ 3.250e+01,  5.400e-01],\n",
       "       [ 3.353e+01,  1.030e+00],\n",
       "       [ 3.450e+01,  9.700e-01],\n",
       "       [ 3.649e+01,  1.990e+00],\n",
       "       [ 3.793e+01,  1.440e+00],\n",
       "       [ 4.052e+01,  2.590e+00],\n",
       "       [ 4.219e+01,  1.670e+00],\n",
       "       [ 3.968e+01, -2.510e+00],\n",
       "       [ 4.074e+01,  1.060e+00],\n",
       "       [ 3.945e+01, -1.290e+00],\n",
       "       [ 4.053e+01,  1.080e+00],\n",
       "       [ 4.037e+01, -1.600e-01],\n",
       "       [ 4.345e+01,  3.080e+00],\n",
       "       [ 4.002e+01, -3.430e+00],\n",
       "       [ 3.836e+01, -1.660e+00],\n",
       "       [ 3.793e+01, -4.300e-01],\n",
       "       [ 3.584e+01, -2.090e+00],\n",
       "       [ 3.478e+01, -1.060e+00],\n",
       "       [ 3.401e+01, -7.700e-01],\n",
       "       [ 3.384e+01, -1.700e-01],\n",
       "       [ 3.378e+01, -6.000e-02],\n",
       "       [ 3.243e+01, -1.350e+00],\n",
       "       [ 3.398e+01,  1.550e+00],\n",
       "       [ 3.578e+01,  1.800e+00],\n",
       "       [ 3.837e+01,  2.590e+00],\n",
       "       [ 3.969e+01,  1.320e+00],\n",
       "       [ 3.793e+01, -1.760e+00],\n",
       "       [ 3.666e+01, -1.270e+00],\n",
       "       [ 3.541e+01, -1.250e+00],\n",
       "       [ 3.405e+01, -1.360e+00],\n",
       "       [ 3.532e+01,  1.270e+00],\n",
       "       [ 3.428e+01, -1.040e+00],\n",
       "       [ 3.252e+01, -1.760e+00],\n",
       "       [ 3.214e+01, -3.800e-01],\n",
       "       [ 3.378e+01,  1.640e+00],\n",
       "       [ 2.936e+01, -4.420e+00],\n",
       "       [ 3.006e+01,  7.000e-01],\n",
       "       [ 3.086e+01,  8.000e-01],\n",
       "       [ 3.058e+01, -2.800e-01],\n",
       "       [ 3.072e+01,  1.400e-01],\n",
       "       [ 3.110e+01,  3.800e-01],\n",
       "       [ 3.242e+01,  1.320e+00],\n",
       "       [ 3.380e+01,  1.380e+00],\n",
       "       [ 3.551e+01,  1.710e+00],\n",
       "       [ 3.462e+01, -8.900e-01],\n",
       "       [ 3.507e+01,  4.500e-01],\n",
       "       [ 3.379e+01, -1.280e+00],\n",
       "       [ 3.143e+01, -2.360e+00],\n",
       "       [ 3.232e+01,  8.900e-01],\n",
       "       [ 3.154e+01, -7.800e-01],\n",
       "       [ 2.956e+01, -1.980e+00],\n",
       "       [ 3.227e+01,  2.710e+00],\n",
       "       [ 3.225e+01, -2.000e-02],\n",
       "       [ 3.468e+01,  2.430e+00],\n",
       "       [ 3.663e+01,  1.950e+00],\n",
       "       [ 3.203e+01, -4.600e+00],\n",
       "       [ 3.343e+01,  1.400e+00],\n",
       "       [ 3.350e+01,  7.000e-02],\n",
       "       [ 3.035e+01, -3.150e+00],\n",
       "       [ 3.119e+01,  8.400e-01],\n",
       "       [ 3.430e+01,  3.110e+00],\n",
       "       [ 3.212e+01, -2.180e+00],\n",
       "       [ 2.879e+01, -3.330e+00],\n",
       "       [ 2.229e+01, -6.500e+00],\n",
       "       [ 2.403e+01,  1.740e+00],\n",
       "       [ 2.392e+01, -1.100e-01],\n",
       "       [ 2.480e+01,  8.800e-01],\n",
       "       [ 2.287e+01, -1.930e+00],\n",
       "       [ 2.510e+01,  2.230e+00],\n",
       "       [ 2.295e+01, -2.150e+00],\n",
       "       [ 2.460e+01,  1.650e+00],\n",
       "       [ 2.239e+01, -2.210e+00],\n",
       "       [ 2.033e+01, -2.060e+00],\n",
       "       [ 2.338e+01,  3.050e+00],\n",
       "       [ 2.470e+01,  1.320e+00],\n",
       "       [ 2.868e+01,  3.980e+00],\n",
       "       [ 2.978e+01,  1.100e+00],\n",
       "       [ 3.177e+01,  1.990e+00],\n",
       "       [ 3.011e+01, -1.660e+00],\n",
       "       [ 2.989e+01, -2.200e-01],\n",
       "       [ 3.127e+01,  1.380e+00],\n",
       "       [ 3.233e+01,  1.060e+00],\n",
       "       [ 3.246e+01,  1.300e-01],\n",
       "       [ 3.190e+01, -5.600e-01],\n",
       "       [ 3.399e+01,  2.090e+00],\n",
       "       [ 3.456e+01,  5.700e-01],\n",
       "       [ 3.539e+01,  8.300e-01],\n",
       "       [ 3.721e+01,  1.820e+00],\n",
       "       [ 3.812e+01,  9.100e-01],\n",
       "       [ 3.537e+01, -2.750e+00],\n",
       "       [ 3.769e+01,  2.320e+00],\n",
       "       [ 3.768e+01, -1.000e-02],\n",
       "       [ 3.622e+01, -1.460e+00],\n",
       "       [ 3.673e+01,  5.100e-01],\n",
       "       [ 3.655e+01, -1.800e-01],\n",
       "       [ 3.750e+01,  9.500e-01],\n",
       "       [ 3.916e+01,  1.660e+00],\n",
       "       [ 3.840e+01, -7.600e-01],\n",
       "       [ 4.268e+01,  4.280e+00],\n",
       "       [ 4.125e+01, -1.430e+00],\n",
       "       [ 4.165e+01,  4.000e-01],\n",
       "       [ 4.171e+01,  6.000e-02],\n",
       "       [ 4.498e+01,  3.270e+00],\n",
       "       [ 4.740e+01,  2.420e+00],\n",
       "       [ 3.799e+01, -9.410e+00],\n",
       "       [ 3.560e+01, -2.390e+00]])"
      ]
     },
     "execution_count": 11,
     "metadata": {},
     "output_type": "execute_result"
    }
   ],
   "source": [
    "env.signal_features"
   ]
  },
  {
   "cell_type": "markdown",
   "id": "5a6fb141",
   "metadata": {},
   "source": [
    "### Model Training"
   ]
  },
  {
   "cell_type": "markdown",
   "id": "6c2e169d",
   "metadata": {},
   "source": [
    "For the training, we will use the Proximal Policy Optimization (PPO) algorithm. It combines ideas from A2C (having multiple workers) and TRPO (it uses a trust region to improve the actor). In particular, we use the recurrent PPO which supports recurrent policies (LSTM)."
   ]
  },
  {
   "cell_type": "markdown",
   "id": "8d2ccf35",
   "metadata": {},
   "source": [
    "Source: https://sb3-contrib.readthedocs.io/en/master/modules/ppo_recurrent.html"
   ]
  },
  {
   "cell_type": "code",
   "execution_count": null,
   "id": "993d7ab0",
   "metadata": {
    "scrolled": false
   },
   "outputs": [],
   "source": [
    "model = RecurrentPPO(\"MlpLstmPolicy\", env, verbose=0)\n",
    "model.learn(total_timesteps=15000)"
   ]
  },
  {
   "cell_type": "code",
   "execution_count": null,
   "id": "e69c23fd",
   "metadata": {},
   "outputs": [],
   "source": [
    "model.save('StockTrading')"
   ]
  },
  {
   "cell_type": "code",
   "execution_count": null,
   "id": "f8223d1e",
   "metadata": {},
   "outputs": [],
   "source": [
    "del model"
   ]
  },
  {
   "cell_type": "markdown",
   "id": "8819474e",
   "metadata": {},
   "source": [
    "The StockTrading zip file inside the repository contains the pre-learned model with total timesteps of 15000. So, we can load the model from it."
   ]
  },
  {
   "cell_type": "code",
   "execution_count": 12,
   "id": "9f215f4b",
   "metadata": {},
   "outputs": [],
   "source": [
    "model = RecurrentPPO.load('StockTrading')"
   ]
  },
  {
   "cell_type": "code",
   "execution_count": 13,
   "id": "36987bff",
   "metadata": {},
   "outputs": [],
   "source": [
    "# Set the environment back\n",
    "model.set_env(env_maker())"
   ]
  },
  {
   "cell_type": "markdown",
   "id": "034f0854",
   "metadata": {},
   "source": [
    "### Model Testing"
   ]
  },
  {
   "cell_type": "code",
   "execution_count": 14,
   "id": "86ec6c2b",
   "metadata": {},
   "outputs": [],
   "source": [
    "# Cell and hidden states of the LSTM\n",
    "lstm_states = None\n",
    "num_envs = 1\n",
    "\n",
    "# Episode start signals are used to reset the lstm states\n",
    "episode_starts = np.ones((num_envs,), dtype=bool)"
   ]
  },
  {
   "cell_type": "code",
   "execution_count": 15,
   "id": "c842afa6",
   "metadata": {},
   "outputs": [
    {
     "name": "stdout",
     "output_type": "stream",
     "text": [
      "info: {'total_reward': 4.359999999999999, 'total_profit': 0.9376816033987575, 'position': 0}\n"
     ]
    }
   ],
   "source": [
    "obs = env.reset()                                # Initial state/observation of the environment\n",
    "\n",
    "while True:\n",
    "    obs = obs[np.newaxis, ...]\n",
    "\n",
    "    action, lstm_states = model.predict(obs, state=lstm_states,\n",
    "                                       episode_start=episode_starts)  \n",
    "    # Based on the state in lstm, do action and go to the next state\n",
    "\n",
    "    obs, reward, done, info = env.step(action)   # Next state and reward\n",
    "\n",
    "    # env.render()\n",
    "    episode_starts = done\n",
    "    if done:\n",
    "        print(\"info:\", info)\n",
    "        break"
   ]
  },
  {
   "cell_type": "code",
   "execution_count": 16,
   "id": "f5006c79",
   "metadata": {},
   "outputs": [
    {
     "data": {
      "image/png": "[encoded data removed]",
      "text/plain": [
       "<Figure size 1152x432 with 1 Axes>"
      ]
     },
     "metadata": {
      "needs_background": "light"
     },
     "output_type": "display_data"
    }
   ],
   "source": [
    "plt.figure(figsize=(16, 6))\n",
    "env.render_all()\n",
    "plt.show()"
   ]
  },
  {
   "cell_type": "markdown",
   "id": "2331a278",
   "metadata": {},
   "source": [
    "At the beginning, we started with a profit of 1, and after this algorithmic trading from the 12th day to the 120th day, we ended with a profit of 0.937682. In this case, we suffered a loss."
   ]
  },
  {
   "cell_type": "markdown",
   "id": "0cb3c5e2",
   "metadata": {},
   "source": [
    "### Evaluation"
   ]
  },
  {
   "cell_type": "markdown",
   "id": "f00e20ab",
   "metadata": {},
   "source": [
    "For evaluation, we use another range of data, 130th to 160th days of data."
   ]
  },
  {
   "cell_type": "code",
   "execution_count": 17,
   "id": "7486598e",
   "metadata": {},
   "outputs": [],
   "source": [
    "window_size = 12\n",
    "start_index = 130\n",
    "end_index = 160"
   ]
  },
  {
   "cell_type": "markdown",
   "id": "5b4c44b5",
   "metadata": {},
   "source": [
    "We crop the original dataframe such that it includes only 118th to 160th data (12 days before 130th day)."
   ]
  },
  {
   "cell_type": "code",
   "execution_count": 18,
   "id": "1b9bda52",
   "metadata": {},
   "outputs": [],
   "source": [
    "evaluationDF = pd.DataFrame(df[start_index-window_size:end_index])"
   ]
  },
  {
   "cell_type": "code",
   "execution_count": 19,
   "id": "6d1621ad",
   "metadata": {},
   "outputs": [
    {
     "data": {
      "text/html": [
       "<div>\n",
       "<style scoped>\n",
       "    .dataframe tbody tr th:only-of-type {\n",
       "        vertical-align: middle;\n",
       "    }\n",
       "\n",
       "    .dataframe tbody tr th {\n",
       "        vertical-align: top;\n",
       "    }\n",
       "\n",
       "    .dataframe thead th {\n",
       "        text-align: right;\n",
       "    }\n",
       "</style>\n",
       "<table border=\"1\" class=\"dataframe\">\n",
       "  <thead>\n",
       "    <tr style=\"text-align: right;\">\n",
       "      <th></th>\n",
       "      <th>Open</th>\n",
       "      <th>High</th>\n",
       "      <th>Low</th>\n",
       "      <th>Close</th>\n",
       "      <th>Volume</th>\n",
       "    </tr>\n",
       "    <tr>\n",
       "      <th>Date</th>\n",
       "      <th></th>\n",
       "      <th></th>\n",
       "      <th></th>\n",
       "      <th></th>\n",
       "      <th></th>\n",
       "    </tr>\n",
       "  </thead>\n",
       "  <tbody>\n",
       "    <tr>\n",
       "      <th>2022-03-25</th>\n",
       "      <td>35.01</td>\n",
       "      <td>39.54</td>\n",
       "      <td>34.55</td>\n",
       "      <td>37.99</td>\n",
       "      <td>53,535,480</td>\n",
       "    </tr>\n",
       "    <tr>\n",
       "      <th>2022-03-24</th>\n",
       "      <td>33.50</td>\n",
       "      <td>35.87</td>\n",
       "      <td>31.69</td>\n",
       "      <td>35.60</td>\n",
       "      <td>36,400,600</td>\n",
       "    </tr>\n",
       "    <tr>\n",
       "      <th>2022-03-23</th>\n",
       "      <td>32.50</td>\n",
       "      <td>37.73</td>\n",
       "      <td>31.64</td>\n",
       "      <td>35.25</td>\n",
       "      <td>98,399,360</td>\n",
       "    </tr>\n",
       "    <tr>\n",
       "      <th>2022-03-22</th>\n",
       "      <td>23.85</td>\n",
       "      <td>31.45</td>\n",
       "      <td>23.61</td>\n",
       "      <td>30.79</td>\n",
       "      <td>60,068,920</td>\n",
       "    </tr>\n",
       "    <tr>\n",
       "      <th>2022-03-21</th>\n",
       "      <td>22.50</td>\n",
       "      <td>24.85</td>\n",
       "      <td>22.44</td>\n",
       "      <td>23.55</td>\n",
       "      <td>15,812,448</td>\n",
       "    </tr>\n",
       "  </tbody>\n",
       "</table>\n",
       "</div>"
      ],
      "text/plain": [
       "             Open   High    Low  Close      Volume\n",
       "Date                                              \n",
       "2022-03-25  35.01  39.54  34.55  37.99  53,535,480\n",
       "2022-03-24  33.50  35.87  31.69  35.60  36,400,600\n",
       "2022-03-23  32.50  37.73  31.64  35.25  98,399,360\n",
       "2022-03-22  23.85  31.45  23.61  30.79  60,068,920\n",
       "2022-03-21  22.50  24.85  22.44  23.55  15,812,448"
      ]
     },
     "execution_count": 19,
     "metadata": {},
     "output_type": "execute_result"
    }
   ],
   "source": [
    "evaluationDF.head()"
   ]
  },
  {
   "cell_type": "code",
   "execution_count": 20,
   "id": "bc7bf940",
   "metadata": {},
   "outputs": [],
   "source": [
    "env_maker = lambda: gym.make(\n",
    "    'stocks-v0',\n",
    "    df=df, \n",
    "    frame_bound=(start_index, end_index), \n",
    "    window_size=window_size\n",
    ")\n",
    "\n",
    "env = DummyVecEnv([env_maker])\n",
    "env = env_maker()"
   ]
  },
  {
   "cell_type": "code",
   "execution_count": 21,
   "id": "68337a72",
   "metadata": {},
   "outputs": [
    {
     "name": "stdout",
     "output_type": "stream",
     "text": [
      "info {'total_reward': 1.3100000000000023, 'total_profit': 0.9840327063379151, 'position': 0}\n"
     ]
    }
   ],
   "source": [
    "obs = env.reset()\n",
    "while True: \n",
    "    obs = obs[np.newaxis, ...]\n",
    "    action, lstm_states = model.predict(obs, state=lstm_states, \n",
    "                                       episode_start=episode_starts)\n",
    "    obs, rewards, done, info = env.step(action)\n",
    "    episode_starts = done\n",
    "    if done:\n",
    "        print(\"info\", info)\n",
    "        break"
   ]
  },
  {
   "cell_type": "code",
   "execution_count": 22,
   "id": "ad3bb040",
   "metadata": {},
   "outputs": [
    {
     "data": {
      "image/png": "[encoded data removed]",
      "text/plain": [
       "<Figure size 1152x432 with 1 Axes>"
      ]
     },
     "metadata": {
      "needs_background": "light"
     },
     "output_type": "display_data"
    }
   ],
   "source": [
    "plt.figure(figsize=(16,6))\n",
    "\n",
    "env.render_all()\n",
    "plt.show()"
   ]
  },
  {
   "cell_type": "markdown",
   "id": "17a2f512",
   "metadata": {},
   "source": [
    "After this algorithmic trading from the 130th day to the 160th day, we ended with a profit of 0.984033. In this case, again, we suffered a loss."
   ]
  },
  {
   "cell_type": "markdown",
   "id": "74782ede",
   "metadata": {},
   "source": [
    "### Extend and Manipulate the Trading Environment with Custom Indicators"
   ]
  },
  {
   "cell_type": "markdown",
   "id": "d70517d9",
   "metadata": {},
   "source": [
    "For the next part, we will try to improve the model by using different indicators to guide the trading. For this, we will use finta library."
   ]
  },
  {
   "cell_type": "code",
   "execution_count": 23,
   "id": "0fa08c77",
   "metadata": {},
   "outputs": [],
   "source": [
    "from gym_anytrading.envs import StocksEnv\n",
    "from finta import TA"
   ]
  },
  {
   "cell_type": "markdown",
   "id": "32f3b63e",
   "metadata": {},
   "source": [
    "The values of the volume column in the data are separated ',', so we will remove this and convert them to float values."
   ]
  },
  {
   "cell_type": "code",
   "execution_count": 24,
   "id": "e4bed9fd",
   "metadata": {},
   "outputs": [],
   "source": [
    "df['Volume'] = df['Volume'].apply(lambda x: float(x.replace(\",\", \"\")))"
   ]
  },
  {
   "cell_type": "code",
   "execution_count": 25,
   "id": "89297a93",
   "metadata": {
    "scrolled": true
   },
   "outputs": [
    {
     "data": {
      "text/plain": [
       "Open      float64\n",
       "High      float64\n",
       "Low       float64\n",
       "Close     float64\n",
       "Volume    float64\n",
       "dtype: object"
      ]
     },
     "execution_count": 25,
     "metadata": {},
     "output_type": "execute_result"
    }
   ],
   "source": [
    "df.dtypes"
   ]
  },
  {
   "cell_type": "markdown",
   "id": "240dfc3e",
   "metadata": {},
   "source": [
    "The custom indicators that we will use are SMA, RSI and OBV. Click on the term to go to the reference page.\n",
    "<ul>\n",
    "    <li><a href='https://www.investopedia.com/terms/s/sma.asp'>Simple-Moving Average (SMA)</a>: The average of a selected range of prices, usually closing prices, by the number of periods in that range.\n",
    "   </li>\n",
    "    <li><a href='https://www.investopedia.com/terms/r/rsi.asp'>Relative Strength Index (RSI)</a>: Measures the speed and magnitude of a security's recent price changes to evaluate overvalued or undervalued conditions in the price of that security.\n",
    "   </li>\n",
    "   <li><a href='https://www.investopedia.com/terms/o/onbalancevolume.asp'>On-Balance Volume (OBV)</a>: Uses volume flow to predict changes in stock price. \n",
    "   </li>\n",
    "</ul>"
   ]
  },
  {
   "cell_type": "markdown",
   "id": "2eb93792",
   "metadata": {},
   "source": [
    "For our SMA, it will be a 12-day moving average."
   ]
  },
  {
   "cell_type": "code",
   "execution_count": 26,
   "id": "a6dfa3fe",
   "metadata": {},
   "outputs": [],
   "source": [
    "# Calculating and implementing the indicators\n",
    "df['SMA'] = TA.SMA(df, 12)\n",
    "df['RSI'] = TA.RSI(df)\n",
    "df['OBV'] = TA.OBV(df)"
   ]
  },
  {
   "cell_type": "code",
   "execution_count": 27,
   "id": "3c1f5d85",
   "metadata": {},
   "outputs": [
    {
     "data": {
      "text/html": [
       "<div>\n",
       "<style scoped>\n",
       "    .dataframe tbody tr th:only-of-type {\n",
       "        vertical-align: middle;\n",
       "    }\n",
       "\n",
       "    .dataframe tbody tr th {\n",
       "        vertical-align: top;\n",
       "    }\n",
       "\n",
       "    .dataframe thead th {\n",
       "        text-align: right;\n",
       "    }\n",
       "</style>\n",
       "<table border=\"1\" class=\"dataframe\">\n",
       "  <thead>\n",
       "    <tr style=\"text-align: right;\">\n",
       "      <th></th>\n",
       "      <th>Open</th>\n",
       "      <th>High</th>\n",
       "      <th>Low</th>\n",
       "      <th>Close</th>\n",
       "      <th>Volume</th>\n",
       "      <th>SMA</th>\n",
       "      <th>RSI</th>\n",
       "      <th>OBV</th>\n",
       "    </tr>\n",
       "    <tr>\n",
       "      <th>Date</th>\n",
       "      <th></th>\n",
       "      <th></th>\n",
       "      <th></th>\n",
       "      <th></th>\n",
       "      <th></th>\n",
       "      <th></th>\n",
       "      <th></th>\n",
       "      <th></th>\n",
       "    </tr>\n",
       "  </thead>\n",
       "  <tbody>\n",
       "    <tr>\n",
       "      <th>2022-09-14</th>\n",
       "      <td>27.56</td>\n",
       "      <td>28.45</td>\n",
       "      <td>26.65</td>\n",
       "      <td>28.13</td>\n",
       "      <td>3605752.0</td>\n",
       "      <td>NaN</td>\n",
       "      <td>NaN</td>\n",
       "      <td>NaN</td>\n",
       "    </tr>\n",
       "    <tr>\n",
       "      <th>2022-09-13</th>\n",
       "      <td>27.40</td>\n",
       "      <td>28.61</td>\n",
       "      <td>27.32</td>\n",
       "      <td>27.85</td>\n",
       "      <td>3657164.0</td>\n",
       "      <td>NaN</td>\n",
       "      <td>0.000000</td>\n",
       "      <td>-3657164.0</td>\n",
       "    </tr>\n",
       "    <tr>\n",
       "      <th>2022-09-12</th>\n",
       "      <td>29.03</td>\n",
       "      <td>30.34</td>\n",
       "      <td>28.00</td>\n",
       "      <td>29.24</td>\n",
       "      <td>6175210.0</td>\n",
       "      <td>NaN</td>\n",
       "      <td>84.242424</td>\n",
       "      <td>2518046.0</td>\n",
       "    </tr>\n",
       "    <tr>\n",
       "      <th>2022-09-09</th>\n",
       "      <td>26.30</td>\n",
       "      <td>29.08</td>\n",
       "      <td>26.10</td>\n",
       "      <td>28.92</td>\n",
       "      <td>7916490.0</td>\n",
       "      <td>NaN</td>\n",
       "      <td>69.687621</td>\n",
       "      <td>-5398444.0</td>\n",
       "    </tr>\n",
       "    <tr>\n",
       "      <th>2022-09-08</th>\n",
       "      <td>25.00</td>\n",
       "      <td>26.74</td>\n",
       "      <td>24.07</td>\n",
       "      <td>25.83</td>\n",
       "      <td>14142210.0</td>\n",
       "      <td>NaN</td>\n",
       "      <td>24.918057</td>\n",
       "      <td>-19540654.0</td>\n",
       "    </tr>\n",
       "    <tr>\n",
       "      <th>2022-09-07</th>\n",
       "      <td>24.73</td>\n",
       "      <td>25.19</td>\n",
       "      <td>23.42</td>\n",
       "      <td>24.04</td>\n",
       "      <td>12504680.0</td>\n",
       "      <td>NaN</td>\n",
       "      <td>17.788697</td>\n",
       "      <td>-32045334.0</td>\n",
       "    </tr>\n",
       "    <tr>\n",
       "      <th>2022-09-06</th>\n",
       "      <td>25.75</td>\n",
       "      <td>26.72</td>\n",
       "      <td>24.67</td>\n",
       "      <td>25.14</td>\n",
       "      <td>7010190.0</td>\n",
       "      <td>NaN</td>\n",
       "      <td>30.876999</td>\n",
       "      <td>-25035144.0</td>\n",
       "    </tr>\n",
       "    <tr>\n",
       "      <th>2022-09-02</th>\n",
       "      <td>28.26</td>\n",
       "      <td>28.74</td>\n",
       "      <td>26.93</td>\n",
       "      <td>27.36</td>\n",
       "      <td>4680123.0</td>\n",
       "      <td>NaN</td>\n",
       "      <td>48.646244</td>\n",
       "      <td>-20355021.0</td>\n",
       "    </tr>\n",
       "    <tr>\n",
       "      <th>2022-09-01</th>\n",
       "      <td>28.00</td>\n",
       "      <td>28.91</td>\n",
       "      <td>26.95</td>\n",
       "      <td>27.63</td>\n",
       "      <td>5293858.0</td>\n",
       "      <td>NaN</td>\n",
       "      <td>50.318999</td>\n",
       "      <td>-15061163.0</td>\n",
       "    </tr>\n",
       "    <tr>\n",
       "      <th>2022-08-31</th>\n",
       "      <td>29.25</td>\n",
       "      <td>29.96</td>\n",
       "      <td>28.26</td>\n",
       "      <td>28.64</td>\n",
       "      <td>5157027.0</td>\n",
       "      <td>NaN</td>\n",
       "      <td>56.081955</td>\n",
       "      <td>-9904136.0</td>\n",
       "    </tr>\n",
       "    <tr>\n",
       "      <th>2022-08-30</th>\n",
       "      <td>31.62</td>\n",
       "      <td>31.87</td>\n",
       "      <td>29.42</td>\n",
       "      <td>29.84</td>\n",
       "      <td>5060206.0</td>\n",
       "      <td>NaN</td>\n",
       "      <td>61.757934</td>\n",
       "      <td>-4843930.0</td>\n",
       "    </tr>\n",
       "    <tr>\n",
       "      <th>2022-08-29</th>\n",
       "      <td>30.48</td>\n",
       "      <td>32.75</td>\n",
       "      <td>30.38</td>\n",
       "      <td>31.55</td>\n",
       "      <td>4292686.0</td>\n",
       "      <td>27.847500</td>\n",
       "      <td>68.087309</td>\n",
       "      <td>-551244.0</td>\n",
       "    </tr>\n",
       "    <tr>\n",
       "      <th>2022-08-26</th>\n",
       "      <td>31.50</td>\n",
       "      <td>32.38</td>\n",
       "      <td>30.63</td>\n",
       "      <td>30.94</td>\n",
       "      <td>4297295.0</td>\n",
       "      <td>28.081667</td>\n",
       "      <td>64.016949</td>\n",
       "      <td>-4848539.0</td>\n",
       "    </tr>\n",
       "    <tr>\n",
       "      <th>2022-08-25</th>\n",
       "      <td>32.84</td>\n",
       "      <td>32.89</td>\n",
       "      <td>31.50</td>\n",
       "      <td>31.96</td>\n",
       "      <td>4726286.0</td>\n",
       "      <td>28.424167</td>\n",
       "      <td>67.514116</td>\n",
       "      <td>-122253.0</td>\n",
       "    </tr>\n",
       "    <tr>\n",
       "      <th>2022-08-24</th>\n",
       "      <td>34.00</td>\n",
       "      <td>34.94</td>\n",
       "      <td>32.44</td>\n",
       "      <td>32.50</td>\n",
       "      <td>5620333.0</td>\n",
       "      <td>28.695833</td>\n",
       "      <td>69.219687</td>\n",
       "      <td>5498080.0</td>\n",
       "    </tr>\n",
       "  </tbody>\n",
       "</table>\n",
       "</div>"
      ],
      "text/plain": [
       "             Open   High    Low  Close      Volume        SMA        RSI  \\\n",
       "Date                                                                       \n",
       "2022-09-14  27.56  28.45  26.65  28.13   3605752.0        NaN        NaN   \n",
       "2022-09-13  27.40  28.61  27.32  27.85   3657164.0        NaN   0.000000   \n",
       "2022-09-12  29.03  30.34  28.00  29.24   6175210.0        NaN  84.242424   \n",
       "2022-09-09  26.30  29.08  26.10  28.92   7916490.0        NaN  69.687621   \n",
       "2022-09-08  25.00  26.74  24.07  25.83  14142210.0        NaN  24.918057   \n",
       "2022-09-07  24.73  25.19  23.42  24.04  12504680.0        NaN  17.788697   \n",
       "2022-09-06  25.75  26.72  24.67  25.14   7010190.0        NaN  30.876999   \n",
       "2022-09-02  28.26  28.74  26.93  27.36   4680123.0        NaN  48.646244   \n",
       "2022-09-01  28.00  28.91  26.95  27.63   5293858.0        NaN  50.318999   \n",
       "2022-08-31  29.25  29.96  28.26  28.64   5157027.0        NaN  56.081955   \n",
       "2022-08-30  31.62  31.87  29.42  29.84   5060206.0        NaN  61.757934   \n",
       "2022-08-29  30.48  32.75  30.38  31.55   4292686.0  27.847500  68.087309   \n",
       "2022-08-26  31.50  32.38  30.63  30.94   4297295.0  28.081667  64.016949   \n",
       "2022-08-25  32.84  32.89  31.50  31.96   4726286.0  28.424167  67.514116   \n",
       "2022-08-24  34.00  34.94  32.44  32.50   5620333.0  28.695833  69.219687   \n",
       "\n",
       "                   OBV  \n",
       "Date                    \n",
       "2022-09-14         NaN  \n",
       "2022-09-13  -3657164.0  \n",
       "2022-09-12   2518046.0  \n",
       "2022-09-09  -5398444.0  \n",
       "2022-09-08 -19540654.0  \n",
       "2022-09-07 -32045334.0  \n",
       "2022-09-06 -25035144.0  \n",
       "2022-09-02 -20355021.0  \n",
       "2022-09-01 -15061163.0  \n",
       "2022-08-31  -9904136.0  \n",
       "2022-08-30  -4843930.0  \n",
       "2022-08-29   -551244.0  \n",
       "2022-08-26  -4848539.0  \n",
       "2022-08-25   -122253.0  \n",
       "2022-08-24   5498080.0  "
      ]
     },
     "execution_count": 27,
     "metadata": {},
     "output_type": "execute_result"
    }
   ],
   "source": [
    "df.head(15)"
   ]
  },
  {
   "cell_type": "markdown",
   "id": "862c2652",
   "metadata": {},
   "source": [
    "Now, under column 'SMA', we have some missing values because the computation of this indicator requires previous 12-day data. That means, this indicator can only be computed from the 12th day (row) onwards. So, we will fill the missing values with 0."
   ]
  },
  {
   "cell_type": "code",
   "execution_count": 28,
   "id": "52e41e4f",
   "metadata": {},
   "outputs": [],
   "source": [
    "df.fillna(0, inplace=True)"
   ]
  },
  {
   "cell_type": "code",
   "execution_count": 29,
   "id": "e1734c6b",
   "metadata": {
    "scrolled": true
   },
   "outputs": [
    {
     "data": {
      "text/html": [
       "<div>\n",
       "<style scoped>\n",
       "    .dataframe tbody tr th:only-of-type {\n",
       "        vertical-align: middle;\n",
       "    }\n",
       "\n",
       "    .dataframe tbody tr th {\n",
       "        vertical-align: top;\n",
       "    }\n",
       "\n",
       "    .dataframe thead th {\n",
       "        text-align: right;\n",
       "    }\n",
       "</style>\n",
       "<table border=\"1\" class=\"dataframe\">\n",
       "  <thead>\n",
       "    <tr style=\"text-align: right;\">\n",
       "      <th></th>\n",
       "      <th>Open</th>\n",
       "      <th>High</th>\n",
       "      <th>Low</th>\n",
       "      <th>Close</th>\n",
       "      <th>Volume</th>\n",
       "      <th>SMA</th>\n",
       "      <th>RSI</th>\n",
       "      <th>OBV</th>\n",
       "    </tr>\n",
       "    <tr>\n",
       "      <th>Date</th>\n",
       "      <th></th>\n",
       "      <th></th>\n",
       "      <th></th>\n",
       "      <th></th>\n",
       "      <th></th>\n",
       "      <th></th>\n",
       "      <th></th>\n",
       "      <th></th>\n",
       "    </tr>\n",
       "  </thead>\n",
       "  <tbody>\n",
       "    <tr>\n",
       "      <th>2022-09-14</th>\n",
       "      <td>27.56</td>\n",
       "      <td>28.45</td>\n",
       "      <td>26.65</td>\n",
       "      <td>28.13</td>\n",
       "      <td>3605752.0</td>\n",
       "      <td>0.000000</td>\n",
       "      <td>0.000000</td>\n",
       "      <td>0.0</td>\n",
       "    </tr>\n",
       "    <tr>\n",
       "      <th>2022-09-13</th>\n",
       "      <td>27.40</td>\n",
       "      <td>28.61</td>\n",
       "      <td>27.32</td>\n",
       "      <td>27.85</td>\n",
       "      <td>3657164.0</td>\n",
       "      <td>0.000000</td>\n",
       "      <td>0.000000</td>\n",
       "      <td>-3657164.0</td>\n",
       "    </tr>\n",
       "    <tr>\n",
       "      <th>2022-09-12</th>\n",
       "      <td>29.03</td>\n",
       "      <td>30.34</td>\n",
       "      <td>28.00</td>\n",
       "      <td>29.24</td>\n",
       "      <td>6175210.0</td>\n",
       "      <td>0.000000</td>\n",
       "      <td>84.242424</td>\n",
       "      <td>2518046.0</td>\n",
       "    </tr>\n",
       "    <tr>\n",
       "      <th>2022-09-09</th>\n",
       "      <td>26.30</td>\n",
       "      <td>29.08</td>\n",
       "      <td>26.10</td>\n",
       "      <td>28.92</td>\n",
       "      <td>7916490.0</td>\n",
       "      <td>0.000000</td>\n",
       "      <td>69.687621</td>\n",
       "      <td>-5398444.0</td>\n",
       "    </tr>\n",
       "    <tr>\n",
       "      <th>2022-09-08</th>\n",
       "      <td>25.00</td>\n",
       "      <td>26.74</td>\n",
       "      <td>24.07</td>\n",
       "      <td>25.83</td>\n",
       "      <td>14142210.0</td>\n",
       "      <td>0.000000</td>\n",
       "      <td>24.918057</td>\n",
       "      <td>-19540654.0</td>\n",
       "    </tr>\n",
       "    <tr>\n",
       "      <th>2022-09-07</th>\n",
       "      <td>24.73</td>\n",
       "      <td>25.19</td>\n",
       "      <td>23.42</td>\n",
       "      <td>24.04</td>\n",
       "      <td>12504680.0</td>\n",
       "      <td>0.000000</td>\n",
       "      <td>17.788697</td>\n",
       "      <td>-32045334.0</td>\n",
       "    </tr>\n",
       "    <tr>\n",
       "      <th>2022-09-06</th>\n",
       "      <td>25.75</td>\n",
       "      <td>26.72</td>\n",
       "      <td>24.67</td>\n",
       "      <td>25.14</td>\n",
       "      <td>7010190.0</td>\n",
       "      <td>0.000000</td>\n",
       "      <td>30.876999</td>\n",
       "      <td>-25035144.0</td>\n",
       "    </tr>\n",
       "    <tr>\n",
       "      <th>2022-09-02</th>\n",
       "      <td>28.26</td>\n",
       "      <td>28.74</td>\n",
       "      <td>26.93</td>\n",
       "      <td>27.36</td>\n",
       "      <td>4680123.0</td>\n",
       "      <td>0.000000</td>\n",
       "      <td>48.646244</td>\n",
       "      <td>-20355021.0</td>\n",
       "    </tr>\n",
       "    <tr>\n",
       "      <th>2022-09-01</th>\n",
       "      <td>28.00</td>\n",
       "      <td>28.91</td>\n",
       "      <td>26.95</td>\n",
       "      <td>27.63</td>\n",
       "      <td>5293858.0</td>\n",
       "      <td>0.000000</td>\n",
       "      <td>50.318999</td>\n",
       "      <td>-15061163.0</td>\n",
       "    </tr>\n",
       "    <tr>\n",
       "      <th>2022-08-31</th>\n",
       "      <td>29.25</td>\n",
       "      <td>29.96</td>\n",
       "      <td>28.26</td>\n",
       "      <td>28.64</td>\n",
       "      <td>5157027.0</td>\n",
       "      <td>0.000000</td>\n",
       "      <td>56.081955</td>\n",
       "      <td>-9904136.0</td>\n",
       "    </tr>\n",
       "    <tr>\n",
       "      <th>2022-08-30</th>\n",
       "      <td>31.62</td>\n",
       "      <td>31.87</td>\n",
       "      <td>29.42</td>\n",
       "      <td>29.84</td>\n",
       "      <td>5060206.0</td>\n",
       "      <td>0.000000</td>\n",
       "      <td>61.757934</td>\n",
       "      <td>-4843930.0</td>\n",
       "    </tr>\n",
       "    <tr>\n",
       "      <th>2022-08-29</th>\n",
       "      <td>30.48</td>\n",
       "      <td>32.75</td>\n",
       "      <td>30.38</td>\n",
       "      <td>31.55</td>\n",
       "      <td>4292686.0</td>\n",
       "      <td>27.847500</td>\n",
       "      <td>68.087309</td>\n",
       "      <td>-551244.0</td>\n",
       "    </tr>\n",
       "    <tr>\n",
       "      <th>2022-08-26</th>\n",
       "      <td>31.50</td>\n",
       "      <td>32.38</td>\n",
       "      <td>30.63</td>\n",
       "      <td>30.94</td>\n",
       "      <td>4297295.0</td>\n",
       "      <td>28.081667</td>\n",
       "      <td>64.016949</td>\n",
       "      <td>-4848539.0</td>\n",
       "    </tr>\n",
       "    <tr>\n",
       "      <th>2022-08-25</th>\n",
       "      <td>32.84</td>\n",
       "      <td>32.89</td>\n",
       "      <td>31.50</td>\n",
       "      <td>31.96</td>\n",
       "      <td>4726286.0</td>\n",
       "      <td>28.424167</td>\n",
       "      <td>67.514116</td>\n",
       "      <td>-122253.0</td>\n",
       "    </tr>\n",
       "    <tr>\n",
       "      <th>2022-08-24</th>\n",
       "      <td>34.00</td>\n",
       "      <td>34.94</td>\n",
       "      <td>32.44</td>\n",
       "      <td>32.50</td>\n",
       "      <td>5620333.0</td>\n",
       "      <td>28.695833</td>\n",
       "      <td>69.219687</td>\n",
       "      <td>5498080.0</td>\n",
       "    </tr>\n",
       "  </tbody>\n",
       "</table>\n",
       "</div>"
      ],
      "text/plain": [
       "             Open   High    Low  Close      Volume        SMA        RSI  \\\n",
       "Date                                                                       \n",
       "2022-09-14  27.56  28.45  26.65  28.13   3605752.0   0.000000   0.000000   \n",
       "2022-09-13  27.40  28.61  27.32  27.85   3657164.0   0.000000   0.000000   \n",
       "2022-09-12  29.03  30.34  28.00  29.24   6175210.0   0.000000  84.242424   \n",
       "2022-09-09  26.30  29.08  26.10  28.92   7916490.0   0.000000  69.687621   \n",
       "2022-09-08  25.00  26.74  24.07  25.83  14142210.0   0.000000  24.918057   \n",
       "2022-09-07  24.73  25.19  23.42  24.04  12504680.0   0.000000  17.788697   \n",
       "2022-09-06  25.75  26.72  24.67  25.14   7010190.0   0.000000  30.876999   \n",
       "2022-09-02  28.26  28.74  26.93  27.36   4680123.0   0.000000  48.646244   \n",
       "2022-09-01  28.00  28.91  26.95  27.63   5293858.0   0.000000  50.318999   \n",
       "2022-08-31  29.25  29.96  28.26  28.64   5157027.0   0.000000  56.081955   \n",
       "2022-08-30  31.62  31.87  29.42  29.84   5060206.0   0.000000  61.757934   \n",
       "2022-08-29  30.48  32.75  30.38  31.55   4292686.0  27.847500  68.087309   \n",
       "2022-08-26  31.50  32.38  30.63  30.94   4297295.0  28.081667  64.016949   \n",
       "2022-08-25  32.84  32.89  31.50  31.96   4726286.0  28.424167  67.514116   \n",
       "2022-08-24  34.00  34.94  32.44  32.50   5620333.0  28.695833  69.219687   \n",
       "\n",
       "                   OBV  \n",
       "Date                    \n",
       "2022-09-14         0.0  \n",
       "2022-09-13  -3657164.0  \n",
       "2022-09-12   2518046.0  \n",
       "2022-09-09  -5398444.0  \n",
       "2022-09-08 -19540654.0  \n",
       "2022-09-07 -32045334.0  \n",
       "2022-09-06 -25035144.0  \n",
       "2022-09-02 -20355021.0  \n",
       "2022-09-01 -15061163.0  \n",
       "2022-08-31  -9904136.0  \n",
       "2022-08-30  -4843930.0  \n",
       "2022-08-29   -551244.0  \n",
       "2022-08-26  -4848539.0  \n",
       "2022-08-25   -122253.0  \n",
       "2022-08-24   5498080.0  "
      ]
     },
     "execution_count": 29,
     "metadata": {},
     "output_type": "execute_result"
    }
   ],
   "source": [
    "df.head(15)"
   ]
  },
  {
   "cell_type": "markdown",
   "id": "e6c344ab",
   "metadata": {},
   "source": [
    "### New Environment Set Up"
   ]
  },
  {
   "cell_type": "markdown",
   "id": "bc691546",
   "metadata": {},
   "source": [
    "To make use of our custom indicators during training, we will create a function that can return the values of custom indicators within the training environment."
   ]
  },
  {
   "cell_type": "code",
   "execution_count": 30,
   "id": "96487c27",
   "metadata": {},
   "outputs": [],
   "source": [
    "def new_process_data(env):\n",
    "    start = env.frame_bound[0] - env.window_size\n",
    "    # if frame_bound[0] is 12 and window_size is 12, start from the first row in the dataset\n",
    "    \n",
    "    end = env.frame_bound[1]\n",
    "    prices = env.df.loc[:, 'Low'].to_numpy()[start:end]\n",
    "    # All the specified range of data under 'Low' column and convert them to numpy array\n",
    "    \n",
    "    signal_features = env.df.loc[:, ['Low', 'Volume','SMA', 'RSI', 'OBV']].to_numpy()[start:end]\n",
    "    # All the specified range of data under 'Low' column, 'Volumn' column and custom indicators.\n",
    "    \n",
    "    return prices, signal_features"
   ]
  },
  {
   "cell_type": "markdown",
   "id": "5389aab4",
   "metadata": {},
   "source": [
    "Now, we apply this function in our stock trading environment. The \"_process_data\" inside the original stock environment returns only prices and price difference. So, we will change it such that it returns new prices and new signal features values (low, volumn, SMA, RSI, and OBV)."
   ]
  },
  {
   "cell_type": "code",
   "execution_count": 31,
   "id": "f12f50bd",
   "metadata": {},
   "outputs": [],
   "source": [
    "class MyCustomEnv(StocksEnv):\n",
    "    _process_data = new_process_data\n",
    "    \n",
    "env2 = MyCustomEnv(df=df, window_size=12, frame_bound=(12,120))"
   ]
  },
  {
   "cell_type": "markdown",
   "id": "61280b34",
   "metadata": {},
   "source": [
    "Let us see the signal features values returned from the new environment."
   ]
  },
  {
   "cell_type": "code",
   "execution_count": 32,
   "id": "c4ce4f7a",
   "metadata": {},
   "outputs": [
    {
     "data": {
      "text/plain": [
       "array([[ 2.66500000e+01,  3.60575200e+06,  0.00000000e+00,\n",
       "         0.00000000e+00,  0.00000000e+00],\n",
       "       [ 2.73200000e+01,  3.65716400e+06,  0.00000000e+00,\n",
       "         0.00000000e+00, -3.65716400e+06],\n",
       "       [ 2.80000000e+01,  6.17521000e+06,  0.00000000e+00,\n",
       "         8.42424242e+01,  2.51804600e+06],\n",
       "       [ 2.61000000e+01,  7.91649000e+06,  0.00000000e+00,\n",
       "         6.96876205e+01, -5.39844400e+06],\n",
       "       [ 2.40700000e+01,  1.41422100e+07,  0.00000000e+00,\n",
       "         2.49180571e+01, -1.95406540e+07],\n",
       "       [ 2.34200000e+01,  1.25046800e+07,  0.00000000e+00,\n",
       "         1.77886965e+01, -3.20453340e+07],\n",
       "       [ 2.46700000e+01,  7.01019000e+06,  0.00000000e+00,\n",
       "         3.08769991e+01, -2.50351440e+07],\n",
       "       [ 2.69300000e+01,  4.68012300e+06,  0.00000000e+00,\n",
       "         4.86462442e+01, -2.03550210e+07],\n",
       "       [ 2.69500000e+01,  5.29385800e+06,  0.00000000e+00,\n",
       "         5.03189987e+01, -1.50611630e+07],\n",
       "       [ 2.82600000e+01,  5.15702700e+06,  0.00000000e+00,\n",
       "         5.60819546e+01, -9.90413600e+06],\n",
       "       [ 2.94200000e+01,  5.06020600e+06,  0.00000000e+00,\n",
       "         6.17579345e+01, -4.84393000e+06],\n",
       "       [ 3.03800000e+01,  4.29268600e+06,  2.78475000e+01,\n",
       "         6.80873093e+01, -5.51244000e+05],\n",
       "       [ 3.06300000e+01,  4.29729500e+06,  2.80816667e+01,\n",
       "         6.40169490e+01, -4.84853900e+06],\n",
       "       [ 3.15000000e+01,  4.72628600e+06,  2.84241667e+01,\n",
       "         6.75141161e+01, -1.22253000e+05],\n",
       "       [ 3.24400000e+01,  5.62033300e+06,  2.86958333e+01,\n",
       "         6.92196868e+01,  5.49808000e+06],\n",
       "       [ 3.34500000e+01,  4.83630900e+06,  2.90800000e+01,\n",
       "         7.22160669e+01,  1.03343890e+07],\n",
       "       [ 3.42000000e+01,  5.79863000e+06,  2.98025000e+01,\n",
       "         7.47126518e+01,  1.61330190e+07],\n",
       "       [ 3.46700000e+01,  9.55186100e+06,  3.08400000e+01,\n",
       "         7.89013037e+01,  2.56848800e+07],\n",
       "       [ 3.73400000e+01,  8.14544600e+06,  3.19058333e+01,\n",
       "         8.13134035e+01,  3.38303260e+07],\n",
       "       [ 4.04100000e+01,  9.76644800e+06,  3.30025000e+01,\n",
       "         8.47012107e+01,  4.35967740e+07],\n",
       "       [ 3.86000000e+01,  2.36027790e+07,  3.42158333e+01,\n",
       "         8.64118211e+01,  6.71995530e+07],\n",
       "       [ 3.88100000e+01,  5.24308800e+06,  3.51358333e+01,\n",
       "         7.31694494e+01,  6.19564650e+07],\n",
       "       [ 3.91500000e+01,  5.12004000e+06,  3.60441667e+01,\n",
       "         7.49175988e+01,  6.70765050e+07],\n",
       "       [ 3.93500000e+01,  5.14048000e+06,  3.67025000e+01,\n",
       "         6.90235367e+01,  6.19360250e+07],\n",
       "       [ 3.86300000e+01,  5.43467500e+06,  3.75016667e+01,\n",
       "         7.10752611e+01,  6.73707000e+07],\n",
       "       [ 3.90000000e+01,  6.95418800e+06,  3.82025000e+01,\n",
       "         7.03320345e+01,  6.04165120e+07],\n",
       "       [ 4.07500000e+01,  1.80456000e+07,  3.91150000e+01,\n",
       "         7.56176324e+01,  7.84621120e+07],\n",
       "       [ 3.65600000e+01,  8.12423500e+06,  3.96558333e+01,\n",
       "         6.23051666e+01,  7.03378770e+07],\n",
       "       [ 3.78900000e+01,  5.42150000e+06,  3.99775000e+01,\n",
       "         5.70687693e+01,  6.49163770e+07],\n",
       "       [ 3.60000000e+01,  5.18648200e+06,  4.00975000e+01,\n",
       "         5.57614325e+01,  5.97298950e+07],\n",
       "       [ 3.51200000e+01,  4.69713400e+06,  3.99233333e+01,\n",
       "         4.97910422e+01,  5.50327610e+07],\n",
       "       [ 3.37700000e+01,  4.19663000e+06,  3.94450000e+01,\n",
       "         4.70401010e+01,  5.08361310e+07],\n",
       "       [ 3.30600000e+01,  3.98875000e+06,  3.87633333e+01,\n",
       "         4.50911929e+01,  4.68473810e+07],\n",
       "       [ 3.26600000e+01,  3.20736300e+06,  3.82766667e+01,\n",
       "         4.46513470e+01,  4.36400180e+07],\n",
       "       [ 3.21600000e+01,  4.25121500e+06,  3.76966667e+01,\n",
       "         4.44864081e+01,  3.93888030e+07],\n",
       "       [ 3.21000000e+01,  4.86607000e+06,  3.71116667e+01,\n",
       "         4.08316954e+01,  3.45227330e+07],\n",
       "       [ 3.32500000e+01,  5.68625900e+06,  3.65658333e+01,\n",
       "         4.62877859e+01,  4.02089920e+07],\n",
       "       [ 3.49300000e+01,  1.00602500e+07,  3.61833333e+01,\n",
       "         5.18415844e+01,  5.02692420e+07],\n",
       "       [ 3.72900000e+01,  9.27779600e+06,  3.57600000e+01,\n",
       "         5.84921588e+01,  5.95470380e+07],\n",
       "       [ 3.83500000e+01,  1.14002920e+07,  3.57325000e+01,\n",
       "         6.14166213e+01,  7.09473300e+07],\n",
       "       [ 3.65900000e+01,  1.28278200e+07,  3.56966667e+01,\n",
       "         5.57741153e+01,  5.81195100e+07],\n",
       "       [ 3.57700000e+01,  1.11551320e+07,  3.55908333e+01,\n",
       "         5.20575196e+01,  4.69643780e+07],\n",
       "       [ 3.35100000e+01,  9.83247200e+06,  3.55550000e+01,\n",
       "         4.86231525e+01,  3.71319060e+07],\n",
       "       [ 3.40500000e+01,  2.09702080e+07,  3.54941667e+01,\n",
       "         4.51342931e+01,  1.61616980e+07],\n",
       "       [ 3.37500000e+01,  1.37037880e+07,  3.56033333e+01,\n",
       "         4.88268881e+01,  2.98654860e+07],\n",
       "       [ 3.18200000e+01,  1.68996800e+07,  3.56400000e+01,\n",
       "         4.60912212e+01,  1.29658060e+07],\n",
       "       [ 3.11600000e+01,  7.55834400e+06,  3.55350000e+01,\n",
       "         4.18208909e+01,  5.40746200e+06],\n",
       "       [ 3.06300000e+01,  1.31994440e+07,  3.55108333e+01,\n",
       "         4.09389578e+01, -7.79198200e+06],\n",
       "       [ 3.04500000e+01,  3.03135640e+07,  3.54941667e+01,\n",
       "         4.62110209e+01,  2.25215820e+07],\n",
       "       [ 2.83400000e+01,  9.98899600e+06,  3.49591667e+01,\n",
       "         3.67020604e+01,  1.25325860e+07],\n",
       "       [ 2.97500000e+01,  6.04576000e+06,  3.42666667e+01,\n",
       "         3.88481963e+01,  1.85783460e+07],\n",
       "       [ 2.98200000e+01,  6.61711600e+06,  3.35308333e+01,\n",
       "         4.12978152e+01,  2.51954620e+07],\n",
       "       [ 2.94400000e+01,  6.71867200e+06,  3.29183333e+01,\n",
       "         4.06835431e+01,  1.84767900e+07],\n",
       "       [ 2.99000000e+01,  6.82649600e+06,  3.24233333e+01,\n",
       "         4.11548449e+01,  2.53032860e+07],\n",
       "       [ 3.05700000e+01,  6.62159600e+06,  3.20641667e+01,\n",
       "         4.24905282e+01,  3.19248820e+07],\n",
       "       [ 3.18300000e+01,  9.74544800e+06,  3.19283333e+01,\n",
       "         4.69915671e+01,  4.16703300e+07],\n",
       "       [ 3.28800000e+01,  1.69957640e+07,  3.18016667e+01,\n",
       "         5.12842847e+01,  5.86660940e+07],\n",
       "       [ 3.41800000e+01,  6.68290000e+06,  3.19041667e+01,\n",
       "         5.60353665e+01,  6.53489940e+07],\n",
       "       [ 3.41100000e+01,  7.84691600e+06,  3.20791667e+01,\n",
       "         5.31310090e+01,  5.75020780e+07],\n",
       "       [ 3.38800000e+01,  1.25122680e+07,  3.23233333e+01,\n",
       "         5.44174609e+01,  7.00143460e+07],\n",
       "       [ 3.15800000e+01,  1.23409080e+07,  3.23241667e+01,\n",
       "         5.01969286e+01,  5.76734380e+07],\n",
       "       [ 3.01500000e+01,  9.99505600e+06,  3.24966667e+01,\n",
       "         4.34982724e+01,  4.76783820e+07],\n",
       "       [ 3.09100000e+01,  1.07642840e+07,  3.26850000e+01,\n",
       "         4.64030526e+01,  5.84426660e+07],\n",
       "       [ 2.90300000e+01,  1.27391400e+07,  3.27416667e+01,\n",
       "         4.42556685e+01,  4.57035260e+07],\n",
       "       [ 2.85800000e+01,  1.37928160e+07,  3.26566667e+01,\n",
       "         3.92857069e+01,  3.19107100e+07],\n",
       "       [ 3.07900000e+01,  1.18301960e+07,  3.27858333e+01,\n",
       "         4.79083605e+01,  4.37409060e+07],\n",
       "       [ 3.18400000e+01,  1.31352520e+07,  3.28816667e+01,\n",
       "         4.78543452e+01,  3.06056540e+07],\n",
       "       [ 3.39600000e+01,  2.44735200e+07,  3.30700000e+01,\n",
       "         5.45581642e+01,  5.50791740e+07],\n",
       "       [ 3.15800000e+01,  2.49674680e+07,  3.33058333e+01,\n",
       "         5.91019682e+01,  8.00466420e+07],\n",
       "       [ 3.17600000e+01,  9.53292000e+06,  3.30158333e+01,\n",
       "         4.71299229e+01,  7.05137220e+07],\n",
       "       [ 3.10600000e+01,  1.82344520e+07,  3.29166667e+01,\n",
       "         5.04215757e+01,  8.87481740e+07],\n",
       "       [ 2.88900000e+01,  2.79187640e+07,  3.27858333e+01,\n",
       "         5.05872281e+01,  1.16666938e+08],\n",
       "       [ 2.92500000e+01,  1.49917320e+07,  3.24991667e+01,\n",
       "         4.35375898e+01,  1.01675206e+08],\n",
       "       [ 3.01300000e+01,  1.90843280e+07,  3.24791667e+01,\n",
       "         4.57102760e+01,  1.20759534e+08],\n",
       "       [ 3.17500000e+01,  3.00450760e+07,  3.26441667e+01,\n",
       "         5.29318304e+01,  1.50804610e+08],\n",
       "       [ 2.86800000e+01,  5.78923200e+07,  3.26925000e+01,\n",
       "         4.81017464e+01,  9.29122900e+07],\n",
       "       [ 2.25400000e+01,  4.00600000e+07,  3.26283333e+01,\n",
       "         4.18235979e+01,  5.28522900e+07],\n",
       "       [ 2.16800000e+01,  8.87948000e+06,  3.17966667e+01,\n",
       "         3.28192348e+01,  4.39728100e+07],\n",
       "       [ 2.28800000e+01,  6.99392400e+06,  3.11116667e+01,\n",
       "         3.67451934e+01,  5.09667340e+07],\n",
       "       [ 2.24400000e+01,  9.97209600e+06,  3.02150000e+01,\n",
       "         3.65995788e+01,  4.09946380e+07],\n",
       "       [ 2.25400000e+01,  1.27205400e+07,  2.92291667e+01,\n",
       "         3.86926856e+01,  5.37151780e+07],\n",
       "       [ 2.25400000e+01,  1.15601280e+07,  2.84658333e+01,\n",
       "         3.58938427e+01,  4.21550500e+07],\n",
       "       [ 2.28000000e+01,  1.04449480e+07,  2.77716667e+01,\n",
       "         4.11874520e+01,  5.25999980e+07],\n",
       "       [ 2.27000000e+01,  1.15821240e+07,  2.68925000e+01,\n",
       "         3.79350027e+01,  4.10178740e+07],\n",
       "       [ 2.37600000e+01,  2.39308640e+07,  2.64133333e+01,\n",
       "         4.17374670e+01,  6.49487380e+07],\n",
       "       [ 1.94400000e+01,  4.01397600e+07,  2.56800000e+01,\n",
       "         3.83485540e+01,  2.48089780e+07],\n",
       "       [ 2.00000000e+01,  1.66813720e+07,  2.45158333e+01,\n",
       "         3.54584486e+01,  8.12760600e+06],\n",
       "       [ 2.20000000e+01,  1.66032120e+07,  2.37875000e+01,\n",
       "         4.23821602e+01,  2.47308180e+07],\n",
       "       [ 2.45200000e+01,  1.32649360e+07,  2.34466667e+01,\n",
       "         4.51257966e+01,  3.79957540e+07],\n",
       "       [ 2.75600000e+01,  7.16163200e+06,  2.39791667e+01,\n",
       "         5.24741981e+01,  4.51573860e+07],\n",
       "       [ 2.87800000e+01,  7.01544800e+06,  2.44583333e+01,\n",
       "         5.42958871e+01,  5.21728340e+07],\n",
       "       [ 2.89300000e+01,  6.65129200e+06,  2.51125000e+01,\n",
       "         5.74717882e+01,  5.88241260e+07],\n",
       "       [ 2.86100000e+01,  7.31268400e+06,  2.55550000e+01,\n",
       "         5.40949657e+01,  5.15114420e+07],\n",
       "       [ 2.81800000e+01,  1.01719440e+07,  2.61400000e+01,\n",
       "         5.36451000e+01,  4.13394980e+07],\n",
       "       [ 3.07500000e+01,  5.14342000e+06,  2.66541667e+01,\n",
       "         5.61107168e+01,  4.64829180e+07],\n",
       "       [ 3.01300000e+01,  7.08489200e+06,  2.74358333e+01,\n",
       "         5.79604107e+01,  5.35678100e+07],\n",
       "       [ 3.11500000e+01,  5.22349600e+06,  2.80908333e+01,\n",
       "         5.81931187e+01,  5.87913060e+07],\n",
       "       [ 3.15400000e+01,  6.18289600e+06,  2.88833333e+01,\n",
       "         5.67361767e+01,  5.26084100e+07],\n",
       "       [ 3.33200000e+01,  6.13911600e+06,  3.00216667e+01,\n",
       "         6.06916495e+01,  5.87475260e+07],\n",
       "       [ 3.38900000e+01,  6.27843200e+06,  3.09533333e+01,\n",
       "         6.17195793e+01,  6.50259580e+07],\n",
       "       [ 3.49800000e+01,  6.73746800e+06,  3.18441667e+01,\n",
       "         6.32275374e+01,  7.17634260e+07],\n",
       "       [ 3.66600000e+01,  4.64801200e+06,  3.25550000e+01,\n",
       "         6.63571023e+01,  7.64114380e+07],\n",
       "       [ 3.49600000e+01,  9.41667600e+06,  3.32500000e+01,\n",
       "         6.78312795e+01,  8.58281140e+07],\n",
       "       [ 3.43100000e+01,  9.87112400e+06,  3.35500000e+01,\n",
       "         5.93655089e+01,  7.59569900e+07],\n",
       "       [ 3.68100000e+01,  1.00023320e+07,  3.41816667e+01,\n",
       "         6.35038263e+01,  8.59593220e+07],\n",
       "       [ 3.55100000e+01,  8.03290000e+06,  3.48308333e+01,\n",
       "         6.34738195e+01,  7.79264220e+07],\n",
       "       [ 3.54200000e+01,  7.99654400e+06,  3.52433333e+01,\n",
       "         5.90841771e+01,  6.99298780e+07],\n",
       "       [ 3.51500000e+01,  9.81191600e+06,  3.56100000e+01,\n",
       "         6.01216429e+01,  7.97417940e+07],\n",
       "       [ 3.55100000e+01,  1.03715160e+07,  3.59508333e+01,\n",
       "         5.95477447e+01,  6.93702780e+07],\n",
       "       [ 3.53900000e+01,  1.53113880e+07,  3.64175000e+01,\n",
       "         6.16295343e+01,  8.46816660e+07],\n",
       "       [ 3.74300000e+01,  1.62678320e+07,  3.68483333e+01,\n",
       "         6.50173228e+01,  1.00949498e+08],\n",
       "       [ 3.80000000e+01,  1.58252640e+07,  3.71683333e+01,\n",
       "         6.23050543e+01,  8.51242340e+07],\n",
       "       [ 3.91300000e+01,  1.85603080e+07,  3.77758333e+01,\n",
       "         6.99162157e+01,  1.03684542e+08],\n",
       "       [ 3.88200000e+01,  5.27582400e+07,  3.81125000e+01,\n",
       "         6.51807355e+01,  5.09263020e+07],\n",
       "       [ 3.96300000e+01,  4.49689200e+07,  3.84066667e+01,\n",
       "         6.58769493e+01,  9.58952220e+07],\n",
       "       [ 4.12500000e+01,  3.66767440e+07,  3.89350000e+01,\n",
       "         6.59868110e+01,  1.32571966e+08],\n",
       "       [ 4.07500000e+01,  7.20459600e+07,  3.95425000e+01,\n",
       "         7.13925888e+01,  2.04617926e+08],\n",
       "       [ 3.78900000e+01,  6.52660800e+07,  4.03525000e+01,\n",
       "         7.46088118e+01,  2.69884006e+08],\n",
       "       [ 3.45500000e+01,  5.35354800e+07,  4.05000000e+01,\n",
       "         5.07270581e+01,  2.16348526e+08],\n",
       "       [ 3.16900000e+01,  3.64006000e+07,  4.04058333e+01,\n",
       "         4.66433145e+01,  1.79947926e+08]])"
      ]
     },
     "execution_count": 32,
     "metadata": {},
     "output_type": "execute_result"
    }
   ],
   "source": [
    "env2.signal_features"
   ]
  },
  {
   "cell_type": "markdown",
   "id": "70c82002",
   "metadata": {},
   "source": [
    "### New Model Training"
   ]
  },
  {
   "cell_type": "code",
   "execution_count": 33,
   "id": "81239d07",
   "metadata": {},
   "outputs": [],
   "source": [
    "env_maker = lambda: env2\n",
    "env = DummyVecEnv([env_maker])"
   ]
  },
  {
   "cell_type": "code",
   "execution_count": null,
   "id": "cf44dd0c",
   "metadata": {
    "scrolled": false
   },
   "outputs": [],
   "source": [
    "model = RecurrentPPO(\"MlpLstmPolicy\", env, verbose=0)\n",
    "model.learn(total_timesteps=15000)"
   ]
  },
  {
   "cell_type": "code",
   "execution_count": null,
   "id": "72115c48",
   "metadata": {},
   "outputs": [],
   "source": [
    "model.save('CusIntStockTrading')"
   ]
  },
  {
   "cell_type": "markdown",
   "id": "3b66d651",
   "metadata": {},
   "source": [
    "The CusIntStockTrading zip file inside the repository contains the pre-learned model with total timesteps of 15000. So, we can load the model from it."
   ]
  },
  {
   "cell_type": "code",
   "execution_count": 34,
   "id": "e6512c14",
   "metadata": {},
   "outputs": [],
   "source": [
    "model = RecurrentPPO.load('CusIntStockTrading')"
   ]
  },
  {
   "cell_type": "code",
   "execution_count": 35,
   "id": "6e4b0317",
   "metadata": {},
   "outputs": [],
   "source": [
    "model.set_env(env)"
   ]
  },
  {
   "cell_type": "markdown",
   "id": "c2906a69",
   "metadata": {},
   "source": [
    "### New Model Evaluation"
   ]
  },
  {
   "cell_type": "code",
   "execution_count": 36,
   "id": "a31eb710",
   "metadata": {},
   "outputs": [],
   "source": [
    "window_size = 12\n",
    "start_index = 130\n",
    "end_index = 160"
   ]
  },
  {
   "cell_type": "code",
   "execution_count": 37,
   "id": "3c7009db",
   "metadata": {},
   "outputs": [
    {
     "name": "stdout",
     "output_type": "stream",
     "text": [
      "info {'total_reward': 0.0, 'total_profit': 1.0179255871446231, 'position': 1}\n"
     ]
    }
   ],
   "source": [
    "env = MyCustomEnv(df=df, window_size=window_size, frame_bound=(start_index,end_index))\n",
    "obs = env.reset()\n",
    "while True: \n",
    "    obs = obs[np.newaxis, ...]\n",
    "    action, lstm_states = model.predict(obs, state=lstm_states, \n",
    "                                       episode_start=episode_starts)  \n",
    "    obs, rewards, done, info = env.step(action)\n",
    "    episode_starts = done\n",
    "    if done:\n",
    "        print(\"info\", info)\n",
    "        break"
   ]
  },
  {
   "cell_type": "code",
   "execution_count": 38,
   "id": "8c428c19",
   "metadata": {},
   "outputs": [
    {
     "data": {
      "image/png": "[encoded data removed]",
      "text/plain": [
       "<Figure size 1152x432 with 1 Axes>"
      ]
     },
     "metadata": {
      "needs_background": "light"
     },
     "output_type": "display_data"
    }
   ],
   "source": [
    "plt.figure(figsize=(16,6))\n",
    "env.render_all()\n",
    "plt.show()"
   ]
  },
  {
   "cell_type": "markdown",
   "id": "a942828e",
   "metadata": {},
   "source": [
    "After this algorithmic trading with custom indicators from the 130th day to the 160th day, we ended with a profit of 1.017926. We successfully obtained a net return compared to 0.984033 (loss)."
   ]
  }
 ],
 "metadata": {
  "kernelspec": {
   "display_name": "Python 3",
   "language": "python",
   "name": "python3"
  },
  "language_info": {
   "codemirror_mode": {
    "name": "ipython",
    "version": 3
   },
   "file_extension": ".py",
   "mimetype": "text/x-python",
   "name": "python",
   "nbconvert_exporter": "python",
   "pygments_lexer": "ipython3",
   "version": "3.8.8"
  }
 },
 "nbformat": 4,
 "nbformat_minor": 5
}
